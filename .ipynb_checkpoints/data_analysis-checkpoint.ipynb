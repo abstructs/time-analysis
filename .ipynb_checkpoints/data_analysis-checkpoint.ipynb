{
 "cells": [
  {
   "cell_type": "code",
   "execution_count": 1,
   "metadata": {},
   "outputs": [],
   "source": [
    "import pandas as pd\n",
    "import datetime as dt\n",
    "import numpy as np"
   ]
  },
  {
   "cell_type": "code",
   "execution_count": 2,
   "metadata": {},
   "outputs": [],
   "source": [
    "data = pd.ExcelFile(\"data.xlsx\")"
   ]
  },
  {
   "cell_type": "code",
   "execution_count": 3,
   "metadata": {},
   "outputs": [
    {
     "data": {
      "text/plain": [
       "id                    int64\n",
       "date_time    datetime64[ns]\n",
       "etype                object\n",
       "time         datetime64[ns]\n",
       "dtype: object"
      ]
     },
     "execution_count": 3,
     "metadata": {},
     "output_type": "execute_result"
    }
   ],
   "source": [
    "swipes = pd.read_excel(data, 'fob_swipes')\n",
    "swipes = swipes[['id', 'date_time', \"time\"]]\n",
    "swipes['etype'] = 'S'\n",
    "swipes['time'] = pd.to_datetime(swipes.date_time)\n",
    "\n",
    "sent_emails = pd.read_excel(data, 'sent_items')\n",
    "sent_emails = sent_emails[['id', 'date_time']]\n",
    "sent_emails['etype'] = 'E'\n",
    "sent_emails['time'] = pd.to_datetime(sent_emails.date_time)\n",
    "\n",
    "format = '%H:%M'\n",
    "\n",
    "# sent_emails['time'] = pd.Series([val.time() for val in sent_emails['time']])\n",
    "\n",
    "sent_emails.head()\n",
    "sent_emails.dtypes\n"
   ]
  },
  {
   "cell_type": "code",
   "execution_count": 4,
   "metadata": {},
   "outputs": [
    {
     "data": {
      "text/plain": [
       "id                    int64\n",
       "date_time    datetime64[ns]\n",
       "time         datetime64[ns]\n",
       "etype                object\n",
       "dtype: object"
      ]
     },
     "execution_count": 4,
     "metadata": {},
     "output_type": "execute_result"
    }
   ],
   "source": [
    "swipes.head()\n",
    "swipes.dtypes"
   ]
  },
  {
   "cell_type": "code",
   "execution_count": 5,
   "metadata": {},
   "outputs": [
    {
     "name": "stderr",
     "output_type": "stream",
     "text": [
      "/Users/vineet/Documents/natalia-case/env/lib/python3.6/site-packages/ipykernel_launcher.py:2: FutureWarning: Sorting because non-concatenation axis is not aligned. A future version\n",
      "of pandas will change to not sort by default.\n",
      "\n",
      "To accept the future behavior, pass 'sort=False'.\n",
      "\n",
      "To retain the current behavior and silence the warning, pass 'sort=True'.\n",
      "\n",
      "  \n"
     ]
    }
   ],
   "source": [
    "frames = [swipes, sent_emails]\n",
    "events = pd.concat(frames, ignore_index=True)"
   ]
  },
  {
   "cell_type": "code",
   "execution_count": 6,
   "metadata": {},
   "outputs": [
    {
     "data": {
      "text/html": [
       "<div>\n",
       "<style scoped>\n",
       "    .dataframe tbody tr th:only-of-type {\n",
       "        vertical-align: middle;\n",
       "    }\n",
       "\n",
       "    .dataframe tbody tr th {\n",
       "        vertical-align: top;\n",
       "    }\n",
       "\n",
       "    .dataframe thead th {\n",
       "        text-align: right;\n",
       "    }\n",
       "</style>\n",
       "<table border=\"1\" class=\"dataframe\">\n",
       "  <thead>\n",
       "    <tr style=\"text-align: right;\">\n",
       "      <th></th>\n",
       "      <th>date_time</th>\n",
       "      <th>etype</th>\n",
       "      <th>id</th>\n",
       "      <th>time</th>\n",
       "    </tr>\n",
       "  </thead>\n",
       "  <tbody>\n",
       "    <tr>\n",
       "      <th>2725</th>\n",
       "      <td>2018-04-20 10:13:00</td>\n",
       "      <td>S</td>\n",
       "      <td>3725</td>\n",
       "      <td>2018-04-20 10:13:00</td>\n",
       "    </tr>\n",
       "    <tr>\n",
       "      <th>2726</th>\n",
       "      <td>2018-04-20 12:30:00</td>\n",
       "      <td>S</td>\n",
       "      <td>3726</td>\n",
       "      <td>2018-04-20 12:30:00</td>\n",
       "    </tr>\n",
       "    <tr>\n",
       "      <th>2727</th>\n",
       "      <td>2018-04-20 14:07:00</td>\n",
       "      <td>S</td>\n",
       "      <td>3727</td>\n",
       "      <td>2018-04-20 14:07:00</td>\n",
       "    </tr>\n",
       "    <tr>\n",
       "      <th>2728</th>\n",
       "      <td>2018-04-20 16:54:00</td>\n",
       "      <td>S</td>\n",
       "      <td>3728</td>\n",
       "      <td>2018-04-20 16:54:00</td>\n",
       "    </tr>\n",
       "    <tr>\n",
       "      <th>2729</th>\n",
       "      <td>2018-04-20 16:59:00</td>\n",
       "      <td>S</td>\n",
       "      <td>3729</td>\n",
       "      <td>2018-04-20 16:59:00</td>\n",
       "    </tr>\n",
       "    <tr>\n",
       "      <th>2730</th>\n",
       "      <td>2014-05-07 15:57:11</td>\n",
       "      <td>E</td>\n",
       "      <td>5000</td>\n",
       "      <td>2014-05-07 15:57:11</td>\n",
       "    </tr>\n",
       "    <tr>\n",
       "      <th>2731</th>\n",
       "      <td>2014-05-07 18:37:13</td>\n",
       "      <td>E</td>\n",
       "      <td>5001</td>\n",
       "      <td>2014-05-07 18:37:13</td>\n",
       "    </tr>\n",
       "    <tr>\n",
       "      <th>2732</th>\n",
       "      <td>2014-05-07 18:38:48</td>\n",
       "      <td>E</td>\n",
       "      <td>5002</td>\n",
       "      <td>2014-05-07 18:38:48</td>\n",
       "    </tr>\n",
       "    <tr>\n",
       "      <th>2733</th>\n",
       "      <td>2014-05-09 18:08:36</td>\n",
       "      <td>E</td>\n",
       "      <td>5003</td>\n",
       "      <td>2014-05-09 18:08:36</td>\n",
       "    </tr>\n",
       "    <tr>\n",
       "      <th>2734</th>\n",
       "      <td>2014-05-12 16:46:09</td>\n",
       "      <td>E</td>\n",
       "      <td>5004</td>\n",
       "      <td>2014-05-12 16:46:09</td>\n",
       "    </tr>\n",
       "    <tr>\n",
       "      <th>2735</th>\n",
       "      <td>2014-05-22 16:50:28</td>\n",
       "      <td>E</td>\n",
       "      <td>5005</td>\n",
       "      <td>2014-05-22 16:50:28</td>\n",
       "    </tr>\n",
       "  </tbody>\n",
       "</table>\n",
       "</div>"
      ],
      "text/plain": [
       "               date_time etype    id                time\n",
       "2725 2018-04-20 10:13:00     S  3725 2018-04-20 10:13:00\n",
       "2726 2018-04-20 12:30:00     S  3726 2018-04-20 12:30:00\n",
       "2727 2018-04-20 14:07:00     S  3727 2018-04-20 14:07:00\n",
       "2728 2018-04-20 16:54:00     S  3728 2018-04-20 16:54:00\n",
       "2729 2018-04-20 16:59:00     S  3729 2018-04-20 16:59:00\n",
       "2730 2014-05-07 15:57:11     E  5000 2014-05-07 15:57:11\n",
       "2731 2014-05-07 18:37:13     E  5001 2014-05-07 18:37:13\n",
       "2732 2014-05-07 18:38:48     E  5002 2014-05-07 18:38:48\n",
       "2733 2014-05-09 18:08:36     E  5003 2014-05-09 18:08:36\n",
       "2734 2014-05-12 16:46:09     E  5004 2014-05-12 16:46:09\n",
       "2735 2014-05-22 16:50:28     E  5005 2014-05-22 16:50:28"
      ]
     },
     "execution_count": 6,
     "metadata": {},
     "output_type": "execute_result"
    }
   ],
   "source": [
    "events[2725:2736]"
   ]
  },
  {
   "cell_type": "code",
   "execution_count": 7,
   "metadata": {},
   "outputs": [],
   "source": [
    "# for every day hours worked, day ends at last swipw between midnight and 8am\n",
    "# group by weeks\n",
    "\n",
    "events.index = events[\"date_time\"]\n",
    "#result.index"
   ]
  },
  {
   "cell_type": "code",
   "execution_count": 8,
   "metadata": {},
   "outputs": [
    {
     "data": {
      "text/plain": [
       "date_time    datetime64[ns]\n",
       "etype                object\n",
       "id                    int64\n",
       "time         datetime64[ns]\n",
       "dtype: object"
      ]
     },
     "execution_count": 8,
     "metadata": {},
     "output_type": "execute_result"
    }
   ],
   "source": [
    "events.dtypes"
   ]
  },
  {
   "cell_type": "code",
   "execution_count": 9,
   "metadata": {},
   "outputs": [],
   "source": [
    "test_date = \"2017-11-16\""
   ]
  },
  {
   "cell_type": "code",
   "execution_count": 10,
   "metadata": {},
   "outputs": [
    {
     "data": {
      "text/plain": [
       "Timestamp('2017-11-16 15:53:00')"
      ]
     },
     "execution_count": 10,
     "metadata": {},
     "output_type": "execute_result"
    }
   ],
   "source": [
    "x = events[test_date].date_time.max()\n",
    "y = events[test_date].date_time.min()\n",
    "\n",
    "x"
   ]
  },
  {
   "cell_type": "code",
   "execution_count": 11,
   "metadata": {},
   "outputs": [
    {
     "data": {
      "text/plain": [
       "Timestamp('2017-11-16 01:15:02')"
      ]
     },
     "execution_count": 11,
     "metadata": {},
     "output_type": "execute_result"
    }
   ],
   "source": [
    "y"
   ]
  },
  {
   "cell_type": "code",
   "execution_count": 12,
   "metadata": {},
   "outputs": [
    {
     "name": "stdout",
     "output_type": "stream",
     "text": [
      "0 days 14:37:58\n"
     ]
    }
   ],
   "source": [
    "print(x - y) "
   ]
  },
  {
   "cell_type": "code",
   "execution_count": 13,
   "metadata": {},
   "outputs": [
    {
     "data": {
      "text/html": [
       "<div>\n",
       "<style scoped>\n",
       "    .dataframe tbody tr th:only-of-type {\n",
       "        vertical-align: middle;\n",
       "    }\n",
       "\n",
       "    .dataframe tbody tr th {\n",
       "        vertical-align: top;\n",
       "    }\n",
       "\n",
       "    .dataframe thead th {\n",
       "        text-align: right;\n",
       "    }\n",
       "</style>\n",
       "<table border=\"1\" class=\"dataframe\">\n",
       "  <thead>\n",
       "    <tr style=\"text-align: right;\">\n",
       "      <th></th>\n",
       "      <th>date_time</th>\n",
       "      <th>etype</th>\n",
       "      <th>id</th>\n",
       "      <th>time</th>\n",
       "    </tr>\n",
       "    <tr>\n",
       "      <th>date_time</th>\n",
       "      <th></th>\n",
       "      <th></th>\n",
       "      <th></th>\n",
       "      <th></th>\n",
       "    </tr>\n",
       "  </thead>\n",
       "  <tbody>\n",
       "    <tr>\n",
       "      <th>2015-09-21 16:05:00</th>\n",
       "      <td>2015-09-21 16:05:00</td>\n",
       "      <td>S</td>\n",
       "      <td>1000</td>\n",
       "      <td>2015-09-21 16:05:00</td>\n",
       "    </tr>\n",
       "    <tr>\n",
       "      <th>2015-09-21 16:50:00</th>\n",
       "      <td>2015-09-21 16:50:00</td>\n",
       "      <td>S</td>\n",
       "      <td>1001</td>\n",
       "      <td>2015-09-21 16:50:00</td>\n",
       "    </tr>\n",
       "    <tr>\n",
       "      <th>2015-09-22 10:39:00</th>\n",
       "      <td>2015-09-22 10:39:00</td>\n",
       "      <td>S</td>\n",
       "      <td>1002</td>\n",
       "      <td>2015-09-22 10:39:00</td>\n",
       "    </tr>\n",
       "    <tr>\n",
       "      <th>2015-09-22 12:51:00</th>\n",
       "      <td>2015-09-22 12:51:00</td>\n",
       "      <td>S</td>\n",
       "      <td>1003</td>\n",
       "      <td>2015-09-22 12:51:00</td>\n",
       "    </tr>\n",
       "    <tr>\n",
       "      <th>2015-09-22 15:26:00</th>\n",
       "      <td>2015-09-22 15:26:00</td>\n",
       "      <td>S</td>\n",
       "      <td>1004</td>\n",
       "      <td>2015-09-22 15:26:00</td>\n",
       "    </tr>\n",
       "  </tbody>\n",
       "</table>\n",
       "</div>"
      ],
      "text/plain": [
       "                              date_time etype    id                time\n",
       "date_time                                                              \n",
       "2015-09-21 16:05:00 2015-09-21 16:05:00     S  1000 2015-09-21 16:05:00\n",
       "2015-09-21 16:50:00 2015-09-21 16:50:00     S  1001 2015-09-21 16:50:00\n",
       "2015-09-22 10:39:00 2015-09-22 10:39:00     S  1002 2015-09-22 10:39:00\n",
       "2015-09-22 12:51:00 2015-09-22 12:51:00     S  1003 2015-09-22 12:51:00\n",
       "2015-09-22 15:26:00 2015-09-22 15:26:00     S  1004 2015-09-22 15:26:00"
      ]
     },
     "execution_count": 13,
     "metadata": {},
     "output_type": "execute_result"
    }
   ],
   "source": [
    "#events[test_date].sort_values(by='date_time',ascending=True)\n",
    "events.head()"
   ]
  },
  {
   "cell_type": "code",
   "execution_count": 14,
   "metadata": {},
   "outputs": [
    {
     "data": {
      "text/html": [
       "<div>\n",
       "<style scoped>\n",
       "    .dataframe tbody tr th:only-of-type {\n",
       "        vertical-align: middle;\n",
       "    }\n",
       "\n",
       "    .dataframe tbody tr th {\n",
       "        vertical-align: top;\n",
       "    }\n",
       "\n",
       "    .dataframe thead th {\n",
       "        text-align: right;\n",
       "    }\n",
       "</style>\n",
       "<table border=\"1\" class=\"dataframe\">\n",
       "  <thead>\n",
       "    <tr style=\"text-align: right;\">\n",
       "      <th></th>\n",
       "      <th>date_time</th>\n",
       "      <th>etype</th>\n",
       "      <th>id</th>\n",
       "      <th>time</th>\n",
       "      <th>date</th>\n",
       "      <th>hour</th>\n",
       "    </tr>\n",
       "    <tr>\n",
       "      <th>date_time</th>\n",
       "      <th></th>\n",
       "      <th></th>\n",
       "      <th></th>\n",
       "      <th></th>\n",
       "      <th></th>\n",
       "      <th></th>\n",
       "    </tr>\n",
       "  </thead>\n",
       "  <tbody>\n",
       "    <tr>\n",
       "      <th>2015-09-21 16:05:00</th>\n",
       "      <td>2015-09-21 16:05:00</td>\n",
       "      <td>S</td>\n",
       "      <td>1000</td>\n",
       "      <td>2015-09-21 16:05:00</td>\n",
       "      <td>2015-09-21</td>\n",
       "      <td>16:05:00</td>\n",
       "    </tr>\n",
       "    <tr>\n",
       "      <th>2015-09-21 16:50:00</th>\n",
       "      <td>2015-09-21 16:50:00</td>\n",
       "      <td>S</td>\n",
       "      <td>1001</td>\n",
       "      <td>2015-09-21 16:50:00</td>\n",
       "      <td>2015-09-21</td>\n",
       "      <td>16:50:00</td>\n",
       "    </tr>\n",
       "    <tr>\n",
       "      <th>2015-09-22 10:39:00</th>\n",
       "      <td>2015-09-22 10:39:00</td>\n",
       "      <td>S</td>\n",
       "      <td>1002</td>\n",
       "      <td>2015-09-22 10:39:00</td>\n",
       "      <td>2015-09-22</td>\n",
       "      <td>10:39:00</td>\n",
       "    </tr>\n",
       "    <tr>\n",
       "      <th>2015-09-22 12:51:00</th>\n",
       "      <td>2015-09-22 12:51:00</td>\n",
       "      <td>S</td>\n",
       "      <td>1003</td>\n",
       "      <td>2015-09-22 12:51:00</td>\n",
       "      <td>2015-09-22</td>\n",
       "      <td>12:51:00</td>\n",
       "    </tr>\n",
       "    <tr>\n",
       "      <th>2015-09-22 15:26:00</th>\n",
       "      <td>2015-09-22 15:26:00</td>\n",
       "      <td>S</td>\n",
       "      <td>1004</td>\n",
       "      <td>2015-09-22 15:26:00</td>\n",
       "      <td>2015-09-22</td>\n",
       "      <td>15:26:00</td>\n",
       "    </tr>\n",
       "  </tbody>\n",
       "</table>\n",
       "</div>"
      ],
      "text/plain": [
       "                              date_time etype    id                time  \\\n",
       "date_time                                                                 \n",
       "2015-09-21 16:05:00 2015-09-21 16:05:00     S  1000 2015-09-21 16:05:00   \n",
       "2015-09-21 16:50:00 2015-09-21 16:50:00     S  1001 2015-09-21 16:50:00   \n",
       "2015-09-22 10:39:00 2015-09-22 10:39:00     S  1002 2015-09-22 10:39:00   \n",
       "2015-09-22 12:51:00 2015-09-22 12:51:00     S  1003 2015-09-22 12:51:00   \n",
       "2015-09-22 15:26:00 2015-09-22 15:26:00     S  1004 2015-09-22 15:26:00   \n",
       "\n",
       "                           date      hour  \n",
       "date_time                                  \n",
       "2015-09-21 16:05:00  2015-09-21  16:05:00  \n",
       "2015-09-21 16:50:00  2015-09-21  16:50:00  \n",
       "2015-09-22 10:39:00  2015-09-22  10:39:00  \n",
       "2015-09-22 12:51:00  2015-09-22  12:51:00  \n",
       "2015-09-22 15:26:00  2015-09-22  15:26:00  "
      ]
     },
     "execution_count": 14,
     "metadata": {},
     "output_type": "execute_result"
    }
   ],
   "source": [
    "events['date'] = [val.date() for val in pd.to_datetime(events['date_time'])]\n",
    "events['hour'] = [val.time() for val in pd.to_datetime(events['date_time'])]\n",
    "\n",
    "events.head()\n",
    "\n",
    "# grouped_events = events.groupby(\"date\")\n",
    "# grouped_events\n",
    "# grouped_events['time'].max() - grouped_events['time'].min()"
   ]
  },
  {
   "cell_type": "code",
   "execution_count": 15,
   "metadata": {},
   "outputs": [
    {
     "data": {
      "text/html": [
       "<div>\n",
       "<style scoped>\n",
       "    .dataframe tbody tr th:only-of-type {\n",
       "        vertical-align: middle;\n",
       "    }\n",
       "\n",
       "    .dataframe tbody tr th {\n",
       "        vertical-align: top;\n",
       "    }\n",
       "\n",
       "    .dataframe thead th {\n",
       "        text-align: right;\n",
       "    }\n",
       "</style>\n",
       "<table border=\"1\" class=\"dataframe\">\n",
       "  <thead>\n",
       "    <tr style=\"text-align: right;\">\n",
       "      <th></th>\n",
       "      <th>date_time</th>\n",
       "      <th>etype</th>\n",
       "      <th>id</th>\n",
       "      <th>time</th>\n",
       "      <th>hour</th>\n",
       "    </tr>\n",
       "    <tr>\n",
       "      <th>date</th>\n",
       "      <th></th>\n",
       "      <th></th>\n",
       "      <th></th>\n",
       "      <th></th>\n",
       "      <th></th>\n",
       "    </tr>\n",
       "  </thead>\n",
       "  <tbody>\n",
       "    <tr>\n",
       "      <th>2014-11-11</th>\n",
       "      <td>2014-11-12 01:40:44</td>\n",
       "      <td>E</td>\n",
       "      <td>5088</td>\n",
       "      <td>2014-11-12 01:40:44</td>\n",
       "      <td>01:40:44</td>\n",
       "    </tr>\n",
       "    <tr>\n",
       "      <th>2015-04-06</th>\n",
       "      <td>2015-04-07 02:09:38</td>\n",
       "      <td>E</td>\n",
       "      <td>5322</td>\n",
       "      <td>2015-04-07 02:09:38</td>\n",
       "      <td>02:09:38</td>\n",
       "    </tr>\n",
       "    <tr>\n",
       "      <th>2015-04-09</th>\n",
       "      <td>2015-04-10 03:04:37</td>\n",
       "      <td>E</td>\n",
       "      <td>5375</td>\n",
       "      <td>2015-04-10 03:04:37</td>\n",
       "      <td>03:04:37</td>\n",
       "    </tr>\n",
       "    <tr>\n",
       "      <th>2015-04-14</th>\n",
       "      <td>2015-04-15 00:57:12</td>\n",
       "      <td>E</td>\n",
       "      <td>5409</td>\n",
       "      <td>2015-04-15 00:57:12</td>\n",
       "      <td>00:57:12</td>\n",
       "    </tr>\n",
       "    <tr>\n",
       "      <th>2015-09-30</th>\n",
       "      <td>2015-10-01 00:53:26</td>\n",
       "      <td>E</td>\n",
       "      <td>5889</td>\n",
       "      <td>2015-10-01 00:53:26</td>\n",
       "      <td>00:53:26</td>\n",
       "    </tr>\n",
       "  </tbody>\n",
       "</table>\n",
       "</div>"
      ],
      "text/plain": [
       "                     date_time etype    id                time      hour\n",
       "date                                                                    \n",
       "2014-11-11 2014-11-12 01:40:44     E  5088 2014-11-12 01:40:44  01:40:44\n",
       "2015-04-06 2015-04-07 02:09:38     E  5322 2015-04-07 02:09:38  02:09:38\n",
       "2015-04-09 2015-04-10 03:04:37     E  5375 2015-04-10 03:04:37  03:04:37\n",
       "2015-04-14 2015-04-15 00:57:12     E  5409 2015-04-15 00:57:12  00:57:12\n",
       "2015-09-30 2015-10-01 00:53:26     E  5889 2015-10-01 00:53:26  00:53:26"
      ]
     },
     "execution_count": 15,
     "metadata": {},
     "output_type": "execute_result"
    }
   ],
   "source": [
    "midnight = dt.datetime.strptime(\"00:00:00\", '%H:%M:%S').time()\n",
    "sevenAM = dt.datetime.strptime(\"07:00:00\", '%H:%M:%S').time()\n",
    "\n",
    "def convert_night_dates(row):\n",
    "    if(row['hour'] <= sevenAM):\n",
    "        row['date'] = (row['date'] - dt.timedelta(1))\n",
    "\n",
    "    return row\n",
    "\n",
    "\n",
    "\n",
    "# def convert_night_dates(row):\n",
    "#     if(row['hour'] <= sevenAM):\n",
    "#         print(row['hour'])\n",
    "#         num_hours = dt.timedelta(midnight + row['hour'].time)\n",
    "#         print(num_hours)\n",
    "#     return 0\n",
    "\n",
    "corrected_events = events.apply(convert_night_dates, axis=1)\n",
    "\n",
    "overflow_max = corrected_events[events.hour <= sevenAM].groupby(by=\"date\").max()\n",
    "overflow_max.head()"
   ]
  },
  {
   "cell_type": "code",
   "execution_count": 16,
   "metadata": {
    "scrolled": false
   },
   "outputs": [
    {
     "ename": "TypeError",
     "evalue": "ufunc subtract cannot use operands with types dtype('O') and dtype('<M8[ns]')",
     "output_type": "error",
     "traceback": [
      "\u001b[0;31m---------------------------------------------------------------------------\u001b[0m",
      "\u001b[0;31mTypeError\u001b[0m                                 Traceback (most recent call last)",
      "\u001b[0;32m~/Documents/natalia-case/env/lib/python3.6/site-packages/pandas/core/ops.py\u001b[0m in \u001b[0;36mna_op\u001b[0;34m(x, y)\u001b[0m\n\u001b[1;32m   1011\u001b[0m         \u001b[0;32mtry\u001b[0m\u001b[0;34m:\u001b[0m\u001b[0;34m\u001b[0m\u001b[0m\n\u001b[0;32m-> 1012\u001b[0;31m             \u001b[0mresult\u001b[0m \u001b[0;34m=\u001b[0m \u001b[0mexpressions\u001b[0m\u001b[0;34m.\u001b[0m\u001b[0mevaluate\u001b[0m\u001b[0;34m(\u001b[0m\u001b[0mop\u001b[0m\u001b[0;34m,\u001b[0m \u001b[0mstr_rep\u001b[0m\u001b[0;34m,\u001b[0m \u001b[0mx\u001b[0m\u001b[0;34m,\u001b[0m \u001b[0my\u001b[0m\u001b[0;34m,\u001b[0m \u001b[0;34m**\u001b[0m\u001b[0meval_kwargs\u001b[0m\u001b[0;34m)\u001b[0m\u001b[0;34m\u001b[0m\u001b[0m\n\u001b[0m\u001b[1;32m   1013\u001b[0m         \u001b[0;32mexcept\u001b[0m \u001b[0mTypeError\u001b[0m\u001b[0;34m:\u001b[0m\u001b[0;34m\u001b[0m\u001b[0m\n",
      "\u001b[0;32m~/Documents/natalia-case/env/lib/python3.6/site-packages/pandas/core/computation/expressions.py\u001b[0m in \u001b[0;36mevaluate\u001b[0;34m(op, op_str, a, b, use_numexpr, **eval_kwargs)\u001b[0m\n\u001b[1;32m    204\u001b[0m     \u001b[0;32mif\u001b[0m \u001b[0muse_numexpr\u001b[0m\u001b[0;34m:\u001b[0m\u001b[0;34m\u001b[0m\u001b[0m\n\u001b[0;32m--> 205\u001b[0;31m         \u001b[0;32mreturn\u001b[0m \u001b[0m_evaluate\u001b[0m\u001b[0;34m(\u001b[0m\u001b[0mop\u001b[0m\u001b[0;34m,\u001b[0m \u001b[0mop_str\u001b[0m\u001b[0;34m,\u001b[0m \u001b[0ma\u001b[0m\u001b[0;34m,\u001b[0m \u001b[0mb\u001b[0m\u001b[0;34m,\u001b[0m \u001b[0;34m**\u001b[0m\u001b[0meval_kwargs\u001b[0m\u001b[0;34m)\u001b[0m\u001b[0;34m\u001b[0m\u001b[0m\n\u001b[0m\u001b[1;32m    206\u001b[0m     \u001b[0;32mreturn\u001b[0m \u001b[0m_evaluate_standard\u001b[0m\u001b[0;34m(\u001b[0m\u001b[0mop\u001b[0m\u001b[0;34m,\u001b[0m \u001b[0mop_str\u001b[0m\u001b[0;34m,\u001b[0m \u001b[0ma\u001b[0m\u001b[0;34m,\u001b[0m \u001b[0mb\u001b[0m\u001b[0;34m)\u001b[0m\u001b[0;34m\u001b[0m\u001b[0m\n",
      "\u001b[0;32m~/Documents/natalia-case/env/lib/python3.6/site-packages/pandas/core/computation/expressions.py\u001b[0m in \u001b[0;36m_evaluate_standard\u001b[0;34m(op, op_str, a, b, **eval_kwargs)\u001b[0m\n\u001b[1;32m     64\u001b[0m     \u001b[0;32mwith\u001b[0m \u001b[0mnp\u001b[0m\u001b[0;34m.\u001b[0m\u001b[0merrstate\u001b[0m\u001b[0;34m(\u001b[0m\u001b[0mall\u001b[0m\u001b[0;34m=\u001b[0m\u001b[0;34m'ignore'\u001b[0m\u001b[0;34m)\u001b[0m\u001b[0;34m:\u001b[0m\u001b[0;34m\u001b[0m\u001b[0m\n\u001b[0;32m---> 65\u001b[0;31m         \u001b[0;32mreturn\u001b[0m \u001b[0mop\u001b[0m\u001b[0;34m(\u001b[0m\u001b[0ma\u001b[0m\u001b[0;34m,\u001b[0m \u001b[0mb\u001b[0m\u001b[0;34m)\u001b[0m\u001b[0;34m\u001b[0m\u001b[0m\n\u001b[0m\u001b[1;32m     66\u001b[0m \u001b[0;34m\u001b[0m\u001b[0m\n",
      "\u001b[0;31mTypeError\u001b[0m: ufunc subtract cannot use operands with types dtype('O') and dtype('<M8[ns]')",
      "\nDuring handling of the above exception, another exception occurred:\n",
      "\u001b[0;31mTypeError\u001b[0m                                 Traceback (most recent call last)",
      "\u001b[0;32m~/Documents/natalia-case/env/lib/python3.6/site-packages/pandas/core/ops.py\u001b[0m in \u001b[0;36msafe_na_op\u001b[0;34m(lvalues, rvalues)\u001b[0m\n\u001b[1;32m   1032\u001b[0m             \u001b[0;32mwith\u001b[0m \u001b[0mnp\u001b[0m\u001b[0;34m.\u001b[0m\u001b[0merrstate\u001b[0m\u001b[0;34m(\u001b[0m\u001b[0mall\u001b[0m\u001b[0;34m=\u001b[0m\u001b[0;34m'ignore'\u001b[0m\u001b[0;34m)\u001b[0m\u001b[0;34m:\u001b[0m\u001b[0;34m\u001b[0m\u001b[0m\n\u001b[0;32m-> 1033\u001b[0;31m                 \u001b[0;32mreturn\u001b[0m \u001b[0mna_op\u001b[0m\u001b[0;34m(\u001b[0m\u001b[0mlvalues\u001b[0m\u001b[0;34m,\u001b[0m \u001b[0mrvalues\u001b[0m\u001b[0;34m)\u001b[0m\u001b[0;34m\u001b[0m\u001b[0m\n\u001b[0m\u001b[1;32m   1034\u001b[0m         \u001b[0;32mexcept\u001b[0m \u001b[0mException\u001b[0m\u001b[0;34m:\u001b[0m\u001b[0;34m\u001b[0m\u001b[0m\n",
      "\u001b[0;32m~/Documents/natalia-case/env/lib/python3.6/site-packages/pandas/core/ops.py\u001b[0m in \u001b[0;36mna_op\u001b[0;34m(x, y)\u001b[0m\n\u001b[1;32m   1017\u001b[0m                 \u001b[0mmask\u001b[0m \u001b[0;34m=\u001b[0m \u001b[0mnotna\u001b[0m\u001b[0;34m(\u001b[0m\u001b[0mx\u001b[0m\u001b[0;34m)\u001b[0m \u001b[0;34m&\u001b[0m \u001b[0mnotna\u001b[0m\u001b[0;34m(\u001b[0m\u001b[0my\u001b[0m\u001b[0;34m)\u001b[0m\u001b[0;34m\u001b[0m\u001b[0m\n\u001b[0;32m-> 1018\u001b[0;31m                 \u001b[0mresult\u001b[0m\u001b[0;34m[\u001b[0m\u001b[0mmask\u001b[0m\u001b[0;34m]\u001b[0m \u001b[0;34m=\u001b[0m \u001b[0mop\u001b[0m\u001b[0;34m(\u001b[0m\u001b[0mx\u001b[0m\u001b[0;34m[\u001b[0m\u001b[0mmask\u001b[0m\u001b[0;34m]\u001b[0m\u001b[0;34m,\u001b[0m \u001b[0mcom\u001b[0m\u001b[0;34m.\u001b[0m\u001b[0m_values_from_object\u001b[0m\u001b[0;34m(\u001b[0m\u001b[0my\u001b[0m\u001b[0;34m[\u001b[0m\u001b[0mmask\u001b[0m\u001b[0;34m]\u001b[0m\u001b[0;34m)\u001b[0m\u001b[0;34m)\u001b[0m\u001b[0;34m\u001b[0m\u001b[0m\n\u001b[0m\u001b[1;32m   1019\u001b[0m             \u001b[0;32melse\u001b[0m\u001b[0;34m:\u001b[0m\u001b[0;34m\u001b[0m\u001b[0m\n",
      "\u001b[0;31mTypeError\u001b[0m: ufunc subtract cannot use operands with types dtype('O') and dtype('<M8[ns]')",
      "\nDuring handling of the above exception, another exception occurred:\n",
      "\u001b[0;31mTypeError\u001b[0m                                 Traceback (most recent call last)",
      "\u001b[0;32m<ipython-input-16-03e6603a33d9>\u001b[0m in \u001b[0;36m<module>\u001b[0;34m()\u001b[0m\n\u001b[1;32m     44\u001b[0m \u001b[0;31m# hours_worked = corrected_grouped_events.agg(compute_hours_worked)\u001b[0m\u001b[0;34m\u001b[0m\u001b[0;34m\u001b[0m\u001b[0m\n\u001b[1;32m     45\u001b[0m \u001b[0;34m\u001b[0m\u001b[0m\n\u001b[0;32m---> 46\u001b[0;31m \u001b[0mfirst_event_times\u001b[0m\u001b[0;34m.\u001b[0m\u001b[0mdate_time\u001b[0m \u001b[0;34m-\u001b[0m \u001b[0mlast_event_times\u001b[0m\u001b[0;34m.\u001b[0m\u001b[0mdate_time\u001b[0m\u001b[0;34m\u001b[0m\u001b[0m\n\u001b[0m\u001b[1;32m     47\u001b[0m \u001b[0;34m\u001b[0m\u001b[0m\n\u001b[1;32m     48\u001b[0m \u001b[0;31m# hours_worked\u001b[0m\u001b[0;34m\u001b[0m\u001b[0;34m\u001b[0m\u001b[0m\n",
      "\u001b[0;32m~/Documents/natalia-case/env/lib/python3.6/site-packages/pandas/core/ops.py\u001b[0m in \u001b[0;36mwrapper\u001b[0;34m(left, right)\u001b[0m\n\u001b[1;32m   1067\u001b[0m             \u001b[0mrvalues\u001b[0m \u001b[0;34m=\u001b[0m \u001b[0mrvalues\u001b[0m\u001b[0;34m.\u001b[0m\u001b[0mvalues\u001b[0m\u001b[0;34m\u001b[0m\u001b[0m\n\u001b[1;32m   1068\u001b[0m \u001b[0;34m\u001b[0m\u001b[0m\n\u001b[0;32m-> 1069\u001b[0;31m         \u001b[0mresult\u001b[0m \u001b[0;34m=\u001b[0m \u001b[0msafe_na_op\u001b[0m\u001b[0;34m(\u001b[0m\u001b[0mlvalues\u001b[0m\u001b[0;34m,\u001b[0m \u001b[0mrvalues\u001b[0m\u001b[0;34m)\u001b[0m\u001b[0;34m\u001b[0m\u001b[0m\n\u001b[0m\u001b[1;32m   1070\u001b[0m         return construct_result(left, result,\n\u001b[1;32m   1071\u001b[0m                                 index=left.index, name=res_name, dtype=None)\n",
      "\u001b[0;32m~/Documents/natalia-case/env/lib/python3.6/site-packages/pandas/core/ops.py\u001b[0m in \u001b[0;36msafe_na_op\u001b[0;34m(lvalues, rvalues)\u001b[0m\n\u001b[1;32m   1035\u001b[0m             \u001b[0;32mif\u001b[0m \u001b[0mis_object_dtype\u001b[0m\u001b[0;34m(\u001b[0m\u001b[0mlvalues\u001b[0m\u001b[0;34m)\u001b[0m\u001b[0;34m:\u001b[0m\u001b[0;34m\u001b[0m\u001b[0m\n\u001b[1;32m   1036\u001b[0m                 return libalgos.arrmap_object(lvalues,\n\u001b[0;32m-> 1037\u001b[0;31m                                               lambda x: op(x, rvalues))\n\u001b[0m\u001b[1;32m   1038\u001b[0m             \u001b[0;32mraise\u001b[0m\u001b[0;34m\u001b[0m\u001b[0m\n\u001b[1;32m   1039\u001b[0m \u001b[0;34m\u001b[0m\u001b[0m\n",
      "\u001b[0;32mpandas/_libs/algos_common_helper.pxi\u001b[0m in \u001b[0;36mpandas._libs.algos.arrmap_object\u001b[0;34m()\u001b[0m\n",
      "\u001b[0;32m~/Documents/natalia-case/env/lib/python3.6/site-packages/pandas/core/ops.py\u001b[0m in \u001b[0;36m<lambda>\u001b[0;34m(x)\u001b[0m\n\u001b[1;32m   1035\u001b[0m             \u001b[0;32mif\u001b[0m \u001b[0mis_object_dtype\u001b[0m\u001b[0;34m(\u001b[0m\u001b[0mlvalues\u001b[0m\u001b[0;34m)\u001b[0m\u001b[0;34m:\u001b[0m\u001b[0;34m\u001b[0m\u001b[0m\n\u001b[1;32m   1036\u001b[0m                 return libalgos.arrmap_object(lvalues,\n\u001b[0;32m-> 1037\u001b[0;31m                                               lambda x: op(x, rvalues))\n\u001b[0m\u001b[1;32m   1038\u001b[0m             \u001b[0;32mraise\u001b[0m\u001b[0;34m\u001b[0m\u001b[0m\n\u001b[1;32m   1039\u001b[0m \u001b[0;34m\u001b[0m\u001b[0m\n",
      "\u001b[0;31mTypeError\u001b[0m: ufunc subtract cannot use operands with types dtype('O') and dtype('<M8[ns]')"
     ]
    }
   ],
   "source": [
    "corrected_grouped_events = events.groupby(\"date\")\n",
    "\n",
    "def minimum(group):\n",
    "    midnight = dt.datetime.strptime(\"00:00:00\", '%H:%M:%S').time()\n",
    "    sevenAM = dt.datetime.strptime(\"07:00:00\", '%H:%M:%S').time()\n",
    "    \n",
    "    greaterThanSevenAM = group[group.hour >= sevenAM]\n",
    "    return greaterThanSevenAM.min()\n",
    "\n",
    "def maximum(group):\n",
    "    midnight = dt.datetime.strptime(\"00:00:00\", '%H:%M:%S').time()\n",
    "    sevenAM = dt.datetime.strptime(\"07:00:00\", '%H:%M:%S').time()\n",
    "    \n",
    "    lessThanSevenAM = group[group.hour < sevenAM]\n",
    "    if(lessThanSevenAM.size > 0):\n",
    "        return lessThanSevenAM.max()\n",
    "    \n",
    "    return group.max()\n",
    "\n",
    "def compute_hours_worked(group):\n",
    "    _max = maximum(group)\n",
    "    _min = minimum(group)\n",
    "    diff = _max.date_time - _min.date_time\n",
    "    date = _max.date\n",
    "    \n",
    "    row = pd.DataFrame()\n",
    "    row.set_index(\"date\")\n",
    "    \n",
    "#     print(row)\n",
    "    \n",
    "    pass\n",
    "    \n",
    "#     new_row = pd.DataFrame()\n",
    "#     print()\n",
    "\n",
    "\n",
    "    \n",
    "    \n",
    "\n",
    "first_event_times = corrected_grouped_events.agg(minimum)\n",
    "\n",
    "last_event_times = corrected_grouped_events.agg(maximum)\n",
    "\n",
    "# hours_worked = corrected_grouped_events.agg(compute_hours_worked)\n",
    "\n",
    "first_event_times.date_time - last_event_times.date_time\n",
    "\n",
    "# hours_worked"
   ]
  },
  {
   "cell_type": "code",
   "execution_count": null,
   "metadata": {},
   "outputs": [],
   "source": [
    "print(\"events\\n\")\n",
    "print(corrected_events.head())\n",
    "print(\"first event time\\n\")\n",
    "print(first_event_times.head())\n",
    "print(\"last event time\\n\")\n",
    "print(last_event_times.head())\n",
    "print(\"hours worked\\n\")\n",
    "print(hours_worked.head())"
   ]
  },
  {
   "cell_type": "code",
   "execution_count": null,
   "metadata": {},
   "outputs": [],
   "source": [
    "# def agg(group):\n",
    "#     group.join(other=first_event_time, on=\"date\", lsuffix=\"_caller\", rsuffix=\"other\")\n",
    "    \n",
    "#     return group\n",
    "\n",
    "# # corrected_grouped_events.apply(agg)\n",
    "\n",
    "# events['date']"
   ]
  },
  {
   "cell_type": "code",
   "execution_count": null,
   "metadata": {},
   "outputs": [],
   "source": [
    "# dates = pd.date_range('2015-10-02', periods=100, freq='D')\n",
    "dates = events['date']"
   ]
  },
  {
   "cell_type": "code",
   "execution_count": null,
   "metadata": {},
   "outputs": [],
   "source": [
    "labels = [\"first_event_time\"]\n",
    "result = pd.DataFrame(columns=labels)\n",
    "\n",
    "first_times = first_event_times\n",
    "last_times = last_event_times\n",
    "# hours = hours_worked.to_frame()\n",
    "\n",
    "firstAndLast = first_times.join(other=last_times, how=\"inner\", lsuffix=\"First Event Time\", rsuffix=\"Last Event Time\")\n",
    "firstAndLast.join(other=hours, how=\"inner\", lsuffix=\"f\", rsuffix=\"hours\")\n",
    "\n",
    "# hours_worked\n",
    "firstAndLast"
   ]
  },
  {
   "cell_type": "code",
   "execution_count": null,
   "metadata": {},
   "outputs": [],
   "source": [
    "labels = [\"first_event_time\"]\n",
    "result = pd.DataFrame(index=dates, columns=labels)\n",
    "\n",
    "first_times = first_event_time.to_frame()\n",
    "\n",
    "first_times.time[0]\n",
    "\n",
    "# for date in dates:\n",
    "#     data = []\n",
    "    \n",
    "#     f = first_times[first_times['time'] == date]\n",
    "#     print(f)\n",
    "    \n",
    "#     row = pd.DataFrame([f] , index=[date], columns=labels)\n",
    "#     result = result.append(row)\n",
    "\n",
    "# result\n",
    "\n",
    "# dates\n",
    "# result.append()\n",
    "# result"
   ]
  }
 ],
 "metadata": {
  "kernelspec": {
   "display_name": "Python 3",
   "language": "python",
   "name": "python3"
  },
  "language_info": {
   "codemirror_mode": {
    "name": "ipython",
    "version": 3
   },
   "file_extension": ".py",
   "mimetype": "text/x-python",
   "name": "python",
   "nbconvert_exporter": "python",
   "pygments_lexer": "ipython3",
   "version": "3.6.5"
  }
 },
 "nbformat": 4,
 "nbformat_minor": 2
}
